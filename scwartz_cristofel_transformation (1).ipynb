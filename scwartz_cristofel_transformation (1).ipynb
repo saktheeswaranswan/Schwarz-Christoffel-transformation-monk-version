{
  "nbformat": 4,
  "nbformat_minor": 0,
  "metadata": {
    "colab": {
      "provenance": []
    },
    "kernelspec": {
      "name": "python3",
      "display_name": "Python 3"
    },
    "language_info": {
      "name": "python"
    }
  },
  "cells": [
    {
      "cell_type": "code",
      "execution_count": null,
      "metadata": {
        "colab": {
          "base_uri": "https://localhost:8080/"
        },
        "id": "Xh1uGb0klC3O",
        "outputId": "7874a9d5-5236-408b-9ea0-18250dba0ac3"
      },
      "outputs": [
        {
          "output_type": "stream",
          "name": "stderr",
          "text": [
            "<ipython-input-3-03be16e518d2>:48: IntegrationWarning: The maximum number of subdivisions (50) has been achieved.\n",
            "  If increasing the limit yields no improvement it is advised to analyze \n",
            "  the integrand in order to determine the difficulties.  If the position of a \n",
            "  local difficulty can be determined (singularity, discontinuity) one will \n",
            "  probably gain from splitting up the interval and calling the integrator \n",
            "  on the subranges.  Perhaps a special-purpose integrator should be used.\n",
            "  val, err = quad(imag_integrand, 0, t)\n",
            "<ipython-input-3-03be16e518d2>:43: IntegrationWarning: The maximum number of subdivisions (50) has been achieved.\n",
            "  If increasing the limit yields no improvement it is advised to analyze \n",
            "  the integrand in order to determine the difficulties.  If the position of a \n",
            "  local difficulty can be determined (singularity, discontinuity) one will \n",
            "  probably gain from splitting up the interval and calling the integrator \n",
            "  on the subranges.  Perhaps a special-purpose integrator should be used.\n",
            "  val, err = quad(real_integrand, 0, t)\n",
            "<ipython-input-3-03be16e518d2>:43: IntegrationWarning: Extremely bad integrand behavior occurs at some points of the\n",
            "  integration interval.\n",
            "  val, err = quad(real_integrand, 0, t)\n"
          ]
        }
      ],
      "source": [
        "import numpy as np\n",
        "from scipy.integrate import quad\n",
        "import csv\n",
        "\n",
        "# Parameters\n",
        "alpha1 = 0.5\n",
        "alpha2 = 0.5\n",
        "\n",
        "# Constants (example values)\n",
        "Ar, Ai = 0, 0\n",
        "Cr, Ci = 1, 0\n",
        "\n",
        "# Small epsilon to avoid zero raised to negative powers\n",
        "eps = 1e-12\n",
        "\n",
        "# Piecewise arg(s) on real axis\n",
        "def arg_s(s):\n",
        "    return np.pi if s < 0 else 0\n",
        "\n",
        "def arg_s1(s):\n",
        "    return np.pi if s < 1 else 0\n",
        "\n",
        "# Theta function\n",
        "def theta_s(s):\n",
        "    return (alpha1 - 1) * arg_s(s) + (alpha2 - 1) * arg_s1(s)\n",
        "\n",
        "# Real part of integrand\n",
        "def real_integrand(s):\n",
        "    abs_s = max(abs(s), eps)\n",
        "    abs_s1 = max(abs(s - 1), eps)\n",
        "    angle = theta_s(s)\n",
        "    return (abs_s**(alpha1 - 1)) * (abs_s1**(alpha2 - 1)) * np.cos(angle)\n",
        "\n",
        "# Imaginary part of integrand\n",
        "def imag_integrand(s):\n",
        "    abs_s = max(abs(s), eps)\n",
        "    abs_s1 = max(abs(s - 1), eps)\n",
        "    angle = theta_s(s)\n",
        "    return (abs_s**(alpha1 - 1)) * (abs_s1**(alpha2 - 1)) * np.sin(angle)\n",
        "\n",
        "# Numeric integral of real part from 0 to t\n",
        "def real_integral(t):\n",
        "    val, err = quad(real_integrand, 0, t)\n",
        "    return val\n",
        "\n",
        "# Numeric integral of imaginary part from 0 to t\n",
        "def imag_integral(t):\n",
        "    val, err = quad(imag_integrand, 0, t)\n",
        "    return val\n",
        "\n",
        "# Parametric functions x(t), y(t)\n",
        "def x_num(t):\n",
        "    return Ar + Cr * real_integral(t) - Ci * imag_integral(t)\n",
        "\n",
        "def y_num(t):\n",
        "    return Ai + Ci * real_integral(t) + Cr * imag_integral(t)\n",
        "\n",
        "# Range and step\n",
        "t_start = 0\n",
        "t_end = 10\n",
        "t_step = 0.001\n",
        "\n",
        "t_values = np.arange(t_start, t_end + t_step, t_step)\n",
        "\n",
        "# Open CSV file to write\n",
        "with open('sc_parametric_coordinates.csv', 'w', newline='') as csvfile:\n",
        "    writer = csv.writer(csvfile)\n",
        "    writer.writerow(['t', 'x', 'y'])  # header\n",
        "\n",
        "    for t in t_values:\n",
        "        x = x_num(t)\n",
        "        y = y_num(t)\n",
        "        writer.writerow([t, x, y])\n",
        "\n",
        "print(\"CSV file 'sc_parametric_coordinates.csv' created with x,y coordinates.\")\n"
      ]
    }
  ]
}